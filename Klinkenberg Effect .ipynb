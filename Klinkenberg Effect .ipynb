{
 "cells": [
  {
   "cell_type": "markdown",
   "id": "2ac7c67e-9841-470c-9f99-1f6fd35fc467",
   "metadata": {},
   "source": [
    "# Klinkenberg Effect Analysis\n",
    "\n",
    "The Klinkenberg Effect, discovered by Klinkenberg in 1941, describes the phenomenon where permeability measurements differ depending on whether air or a liquid is used as the flowing fluid. Specifically, the permeability of a core sample is consistently higher when measured with air than with a liquid. This discrepancy arises because gases exhibit slippage at the sand grain surface, resulting in a higher flow rate compared to liquids, which have zero velocity at the surface. Additionally, Klinkenberg observed that as the mean pressure of the fluid increases, the calculated permeability decreases. By plotting permeability against the inverse of the mean pressure and extrapolating to where the mean pressure approaches infinity, one can estimate the liquid permeability. The magnitude of the Klinkenberg Effect varies with core permeability and the type of gas used in the measurement."
   ]
  },
  {
   "cell_type": "markdown",
   "id": "378c1974-e4dc-4340-a50e-3a89f9063221",
   "metadata": {},
   "source": [
    "## Equations included\n",
    "\n",
    "1) k(g) = k(l) + c(1/Pm)\n",
    "kg = measured gas permeability pm = mean pressure kL = equivalent liquid permeability, i.e., absolute permeability, c = slope of the line\n",
    "\n",
    "2) c = b.k(l) = 6.9 kL^(-0.36)\n",
    "\n",
    "3) 6.9kL^(0.64) + pmkL - pm*kg = 0g = 0"
   ]
  },
  {
   "cell_type": "markdown",
   "id": "58d43a91-54de-4204-b13e-87487474bcef",
   "metadata": {},
   "source": [
    "## Procedure/Algorithm\n",
    "Equation 3 can be used to calculate the absolute permeability when only one gas permeability measurement (kg) of a core sample is made at pm. This nonlinear equation can be solved iteratively by using the Newton-Raphson iterative methods. The proposed solution method can be conveniently written as\n",
    "\n",
    "k(i+1) = k(i) - f(ki)/f'(ki)\n",
    "\n",
    "where ki = initial guess of the absolute permeability (mD),\n",
    "ki+1 = new permeability value to be used for the next iteration,\n",
    "i = iteration level,\n",
    "f(ki) = Equation 3,\n",
    "f'(ki) = first-derivative of Equation 3\n",
    "\n",
    "f'(ki) = 4.416 ki^(-0.36) + pm\n",
    "The iterative procedure is repeated until convergence is achieved when f(ki) approaches zero or when no changes in the calculated values of ki are observed."
   ]
  },
  {
   "cell_type": "markdown",
   "id": "54ad5ab8-1d1e-48ab-a3e7-31fde53fd8f4",
   "metadata": {},
   "source": [
    "## Problem\n",
    "The permeability of a core plug is measured by air. Only one measure\n",
    "ment is made at a mean pressure of 2.152 psi. The air permeability i \n",
    " 46.6 md. Estimate the absolute permeability of the core sample. Compa \r\n",
    " the result with the actual absolute permeability of 23.66 md.\n"
   ]
  },
  {
   "cell_type": "code",
   "execution_count": 53,
   "id": "cf6fa35c-e8a2-4c19-9238-43badf0ea943",
   "metadata": {},
   "outputs": [
    {
     "name": "stdin",
     "output_type": "stream",
     "text": [
      "\n",
      "Enter your first guess of absolute permeability kl:  27\n",
      "\n",
      "Enter Mean Pr. Pm:  2.152\n",
      "\n",
      "Enter K(air) = kg:  46.6\n"
     ]
    },
    {
     "name": "stdout",
     "output_type": "stream",
     "text": [
      "The final value of Perm K is : 22.848995125108296\n"
     ]
    }
   ],
   "source": [
    "k = input(\"\\nEnter your first guess of absolute permeability kl: \")\n",
    "\n",
    "k = float(k)\n",
    "\n",
    "#f(k= kl) = 6.9kL^(0.64) + pmkL - pm*kg = 0\n",
    "# f'(k) = 4.416 ki^(-0.36) + pm\n",
    "\n",
    "pm  = input(\"\\nEnter Mean Pr. Pm: \")\n",
    "pm = float(pm)\n",
    "\n",
    "kg = input(\"\\nEnter K(air) = kg: \")\n",
    "kg = float(kg)\n",
    "\n",
    "while abs(6.9*(k**0.64) + pm*k - pm*kg) > 0.001:\n",
    "  k = k - (6.9*(k**0.64) + pm*k - pm*kg)/(4.416*(k**(-0.36)) + pm)\n",
    "\n",
    "print(f\"The final value of Perm K is : {k}\")"
   ]
  },
  {
   "cell_type": "code",
   "execution_count": 55,
   "id": "0fcbeb94-acc2-4649-bffd-1c26eb9d511d",
   "metadata": {},
   "outputs": [
    {
     "data": {
      "image/png": "[encoded data removed]",
      "text/plain": [
       "<Figure size 640x480 with 1 Axes>"
      ]
     },
     "metadata": {},
     "output_type": "display_data"
    }
   ],
   "source": [
    "# Actual absolute permeability\n",
    "actual_permeability = 23.66\n",
    "\n",
    "# Plot the estimated and actual values\n",
    "plt.bar(['Estimated', 'Actual'], [k, actual_permeability], color=['blue', 'red'])\n",
    "plt.ylabel('Permeability (md)')\n",
    "plt.title('Comparison of Estimated and Actual Absolute Permeability')\n",
    "plt.show()\n"
   ]
  },
  {
   "cell_type": "code",
   "execution_count": null,
   "id": "6ed458ac-45ef-4d7f-a5de-76159174a1ab",
   "metadata": {},
   "outputs": [],
   "source": []
  }
 ],
 "metadata": {
  "kernelspec": {
   "display_name": "Python 3 (ipykernel)",
   "language": "python",
   "name": "python3"
  },
  "language_info": {
   "codemirror_mode": {
    "name": "ipython",
    "version": 3
   },
   "file_extension": ".py",
   "mimetype": "text/x-python",
   "name": "python",
   "nbconvert_exporter": "python",
   "pygments_lexer": "ipython3",
   "version": "3.11.7"
  }
 },
 "nbformat": 4,
 "nbformat_minor": 5
}
